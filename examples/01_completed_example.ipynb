{
 "cells": [
  {
   "cell_type": "markdown",
   "metadata": {},
   "source": [
    "# I am the title"
   ]
  },
  {
   "cell_type": "code",
   "execution_count": 51,
   "metadata": {},
   "outputs": [
    {
     "name": "stdout",
     "output_type": "stream",
     "text": [
      "[NbConvertApp] Converting notebook complete_example.ipynb to html\n",
      "[NbConvertApp] Writing 285720 bytes to complete_example.html\n"
     ]
    }
   ],
   "source": [
    "!jupyter nbconvert --to html --template=full.tpl complete_example.ipynb\n",
    "!open ./complete_example.html"
   ]
  },
  {
   "cell_type": "code",
   "execution_count": 20,
   "metadata": {},
   "outputs": [
    {
     "name": "stdout",
     "output_type": "stream",
     "text": [
      "Overwriting template.tpl\n"
     ]
    }
   ],
   "source": [
    "%%writefile template.tpl\n",
    "\n"
   ]
  },
  {
   "cell_type": "markdown",
   "metadata": {},
   "source": [
    "## Getting tabby"
   ]
  },
  {
   "cell_type": "markdown",
   "metadata": {},
   "source": [
    "<div class=\"puretabs\">\n",
    "  <div class=\"tabs\">\n",
    "    <ul class=\"nav nav-tabs\">\n",
    "      <li role=\"presentation\"><a class=\"tabs__link tabs__link--active\" href=\"#pytabs-tabs-1--tab-a\">tab 1</a></li>\n",
    "      <li role=\"presentation\"><a class=\"tabs__link\" href=\"#pytabs-tabs-1--tab-b\">tab 2</a></li>\n",
    "    </ul>\n",
    "  </div>\n",
    "</div>\n"
   ]
  },
  {
   "cell_type": "code",
   "execution_count": 2,
   "metadata": {
    "cell_id": "pytabs-tabs-1--tab-a",
    "pytabs": {
     "class": "tabs-1",
     "name": "tab a"
    }
   },
   "outputs": [
    {
     "data": {
      "text/plain": [
       "2"
      ]
     },
     "execution_count": 2,
     "metadata": {},
     "output_type": "execute_result"
    }
   ],
   "source": [
    "1 + 1"
   ]
  },
  {
   "cell_type": "code",
   "execution_count": 3,
   "metadata": {
    "cell_id": "pytabs-tabs-1--tab-b",
    "pytabs": {
     "class": "tabs-1",
     "name": "tab b"
    }
   },
   "outputs": [
    {
     "data": {
      "text/plain": [
       "4"
      ]
     },
     "execution_count": 3,
     "metadata": {},
     "output_type": "execute_result"
    }
   ],
   "source": [
    "2 + 2"
   ]
  },
  {
   "cell_type": "code",
   "execution_count": 46,
   "metadata": {},
   "outputs": [
    {
     "data": {
      "text/html": [
       "<script type='text/javascript'>(function(exports) {\n",
       "\n",
       "  var $ = document.querySelectorAll.bind(document);\n",
       "\n",
       "  exports.pureTabs = {\n",
       "\n",
       "    toggle: function(e) {\n",
       "      var activeClassName = this.activeClassName,\n",
       "          oldSection = $('[data-puretabs]')[0],\n",
       "          newSection = $(e.currentTarget.hash)[0];\n",
       "\n",
       "      removeClass($(activeClassName)[0], activeClassName.substr(1));\n",
       "      addClass(e.currentTarget, activeClassName.substr(1));\n",
       "\n",
       "      oldSection.style.display = 'none';\n",
       "      oldSection.removeAttribute('data-puretabs');\n",
       "\n",
       "      newSection.style.display = 'block';\n",
       "      newSection.setAttribute('data-puretabs', '');\n",
       "    },\n",
       "\n",
       "    init: function(className, activeClassName) {\n",
       "      var self = this;\n",
       "\n",
       "      self.className = '.' + className || '.puretabs';\n",
       "      self.activeClassName = '.' + activeClassName || '.puretabs--active';\n",
       "\n",
       "      var links = [].slice.call($(self.className));\n",
       "\n",
       "      links.forEach(function(link) {\n",
       "\n",
       "        if (!containsClass(link, self.activeClassName.substr(1))) {\n",
       "          $(link.hash)[0].style.display = 'none';\n",
       "        } else {\n",
       "          $(link.hash)[0].setAttribute('data-puretabs', '');\n",
       "        }\n",
       "\n",
       "        link.addEventListener('click', function(e) {\n",
       "          e.preventDefault();\n",
       "          self.toggle.call(self, e)\n",
       "        });\n",
       "\n",
       "      });\n",
       "    }\n",
       "\n",
       "  };\n",
       "\n",
       "\n",
       "  //  Helpers\n",
       "  function addClass(e, c) {\n",
       "    var re = new RegExp(\"(^|\\\\s)\" + c + \"(\\\\s|$)\", \"g\");\n",
       "    if (re.test(e.className)) return;\n",
       "    e.className = (e.className + \" \" + c).replace(/\\s+/g, \" \").replace(/(^ | $)/g, \"\")\n",
       "  }\n",
       "\n",
       "  function removeClass(e, c) {\n",
       "    var re = new RegExp(\"(^|\\\\s)\" + c + \"(\\\\s|$)\", \"g\");\n",
       "    e.className = e.className.replace(re, \"$1\").replace(/\\s+/g, \" \").replace(/(^ | $)/g, \"\");\n",
       "  }\n",
       "\n",
       "  function containsClass(e, c) {\n",
       "    var re = new RegExp(\"(^|\\\\s)\" + c + \"(\\\\s|$)\", \"g\");\n",
       "    return re.test(e.className) ? true : false;\n",
       "  }\n",
       "\n",
       "})(window);\n",
       "</script>"
      ],
      "text/plain": [
       "<IPython.core.display.HTML object>"
      ]
     },
     "metadata": {},
     "output_type": "display_data"
    }
   ],
   "source": [
    "def javascript(*st,file=None):\n",
    "    from IPython.display import display, HTML\n",
    "    if len(st) == 1 and file is None:\n",
    "        s = st[0]\n",
    "    elif len(st) == 0 and file is not None:\n",
    "        s = open(file).read()\n",
    "    else:\n",
    "        raise ValueError('Pass either a string or file=.')\n",
    "    display(HTML(\"<script type='text/javascript'>\" + s + \"</script>\"))\n",
    "    \n",
    "javascript(file = \"puretabs.js\")"
   ]
  },
  {
   "cell_type": "code",
   "execution_count": 47,
   "metadata": {},
   "outputs": [
    {
     "data": {
      "text/html": [
       "<script>\n",
       "  window.onload = function() {\n",
       "    //pureTabs.init();\n",
       "    //pureTabs.init('tabs', 'tabs--active');\n",
       "    pureTabs.init('tabs__link', 'tabs__link--active');\n",
       "  }\n",
       "</script>\n"
      ],
      "text/plain": [
       "<IPython.core.display.HTML object>"
      ]
     },
     "metadata": {},
     "output_type": "display_data"
    }
   ],
   "source": [
    "%%html\n",
    "<script>\n",
    "  window.onload = function() {\n",
    "    //pureTabs.init();\n",
    "    //pureTabs.init('tabs', 'tabs--active');\n",
    "    pureTabs.init('tabs__link', 'tabs__link--active');\n",
    "  }\n",
    "</script>\n"
   ]
  }
 ],
 "metadata": {
  "kernelspec": {
   "display_name": "Python 3",
   "language": "python",
   "name": "python3"
  },
  "language_info": {
   "codemirror_mode": {
    "name": "ipython",
    "version": 3
   },
   "file_extension": ".py",
   "mimetype": "text/x-python",
   "name": "python",
   "nbconvert_exporter": "python",
   "pygments_lexer": "ipython3",
   "version": "3.6.8"
  }
 },
 "nbformat": 4,
 "nbformat_minor": 4
}
